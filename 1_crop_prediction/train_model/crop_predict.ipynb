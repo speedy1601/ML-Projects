{
 "cells": [
  {
   "cell_type": "code",
   "execution_count": null,
   "id": "83003064",
   "metadata": {},
   "outputs": [],
   "source": [
    "import xgboost as xgb\n",
    "import polars as pl\n",
    "import numpy as np\n",
    "from sklearn.model_selection import train_test_split, GridSearchCV\n",
    "from sklearn.metrics import accuracy_score\n",
    "from sklearn.preprocessing import LabelEncoder\n",
    "import joblib"
   ]
  },
  {
   "cell_type": "code",
   "execution_count": 2,
   "id": "6e59e028",
   "metadata": {},
   "outputs": [
    {
     "name": "stdout",
     "output_type": "stream",
     "text": [
      "shape: (5, 8)\n",
      "┌─────┬─────┬─────┬─────────────┬───────────┬──────────┬────────────┬───────┐\n",
      "│ N   ┆ P   ┆ K   ┆ temperature ┆ humidity  ┆ ph       ┆ rainfall   ┆ label │\n",
      "│ --- ┆ --- ┆ --- ┆ ---         ┆ ---       ┆ ---      ┆ ---        ┆ ---   │\n",
      "│ i64 ┆ i64 ┆ i64 ┆ f64         ┆ f64       ┆ f64      ┆ f64        ┆ str   │\n",
      "╞═════╪═════╪═════╪═════════════╪═══════════╪══════════╪════════════╪═══════╡\n",
      "│ 90  ┆ 42  ┆ 43  ┆ 20.879744   ┆ 82.002744 ┆ 6.502985 ┆ 202.935536 ┆ rice  │\n",
      "│ 85  ┆ 58  ┆ 41  ┆ 21.770462   ┆ 80.319644 ┆ 7.038096 ┆ 226.655537 ┆ rice  │\n",
      "│ 60  ┆ 55  ┆ 44  ┆ 23.004459   ┆ 82.320763 ┆ 7.840207 ┆ 263.964248 ┆ rice  │\n",
      "│ 74  ┆ 35  ┆ 40  ┆ 26.491096   ┆ 80.158363 ┆ 6.980401 ┆ 242.864034 ┆ rice  │\n",
      "│ 78  ┆ 42  ┆ 42  ┆ 20.130175   ┆ 81.604873 ┆ 7.628473 ┆ 262.71734  ┆ rice  │\n",
      "└─────┴─────┴─────┴─────────────┴───────────┴──────────┴────────────┴───────┘\n"
     ]
    }
   ],
   "source": [
    "crop = pl.read_csv(r\"Crop_recommendation.csv\")\n",
    "\n",
    "print(crop.head())"
   ]
  },
  {
   "cell_type": "code",
   "execution_count": 4,
   "id": "16419df9",
   "metadata": {},
   "outputs": [],
   "source": [
    "# crop.select(pl.last()) = The last column of the crop df.\n",
    "output_column: np.ndarray = crop.select(pl.last()) .to_series() .to_numpy()\n",
    "\n",
    "le = LabelEncoder().fit(output_column)\n",
    "\n",
    "X = crop.select(pl.all().exclude('label')) .to_numpy()\n",
    "y = le.transform(output_column)\n",
    "\n",
    "X_train, X_test, y_train, y_test = train_test_split(X, y, test_size = 0.2, random_state = 42)"
   ]
  },
  {
   "cell_type": "code",
   "execution_count": 21,
   "id": "78a8bc41",
   "metadata": {},
   "outputs": [
    {
     "data": {
      "text/html": [
       "<div><style>\n",
       ".dataframe > thead > tr,\n",
       ".dataframe > tbody > tr {\n",
       "  text-align: right;\n",
       "  white-space: pre-wrap;\n",
       "}\n",
       "</style>\n",
       "<small>shape: (22, 2)</small><table border=\"1\" class=\"dataframe\"><thead><tr><th>crop_no</th><th>crop_name</th></tr><tr><td>i32</td><td>str</td></tr></thead><tbody><tr><td>0</td><td>&quot;apple&quot;</td></tr><tr><td>1</td><td>&quot;banana&quot;</td></tr><tr><td>2</td><td>&quot;blackgram&quot;</td></tr><tr><td>3</td><td>&quot;chickpea&quot;</td></tr><tr><td>4</td><td>&quot;coconut&quot;</td></tr><tr><td>&hellip;</td><td>&hellip;</td></tr><tr><td>17</td><td>&quot;papaya&quot;</td></tr><tr><td>18</td><td>&quot;pigeonpeas&quot;</td></tr><tr><td>19</td><td>&quot;pomegranate&quot;</td></tr><tr><td>20</td><td>&quot;rice&quot;</td></tr><tr><td>21</td><td>&quot;watermelon&quot;</td></tr></tbody></table></div>"
      ],
      "text/plain": [
       "shape: (22, 2)\n",
       "┌─────────┬─────────────┐\n",
       "│ crop_no ┆ crop_name   │\n",
       "│ ---     ┆ ---         │\n",
       "│ i32     ┆ str         │\n",
       "╞═════════╪═════════════╡\n",
       "│ 0       ┆ apple       │\n",
       "│ 1       ┆ banana      │\n",
       "│ 2       ┆ blackgram   │\n",
       "│ 3       ┆ chickpea    │\n",
       "│ 4       ┆ coconut     │\n",
       "│ …       ┆ …           │\n",
       "│ 17      ┆ papaya      │\n",
       "│ 18      ┆ pigeonpeas  │\n",
       "│ 19      ┆ pomegranate │\n",
       "│ 20      ┆ rice        │\n",
       "│ 21      ┆ watermelon  │\n",
       "└─────────┴─────────────┘"
      ]
     },
     "execution_count": 21,
     "metadata": {},
     "output_type": "execute_result"
    }
   ],
   "source": [
    "pl.DataFrame({'crop_no' : y, 'crop_name' : crop.select(pl.col('label'))}).unique(subset = 'crop_no').sort('crop_no')"
   ]
  },
  {
   "cell_type": "code",
   "execution_count": 9,
   "id": "76d23f32",
   "metadata": {},
   "outputs": [
    {
     "name": "stdout",
     "output_type": "stream",
     "text": [
      "Best Accuracy Score = 0.9981818181818181.\n",
      "\n",
      "Best Hyperparameters values : \n",
      "{'colsample_bytree': 0.5, 'learning_rate': 0.1, 'max_depth': 5, 'n_estimators': 100, 'subsample': 0.7}.\n"
     ]
    }
   ],
   "source": [
    "parameters = {'colsample_bytree': [0.4, 0.5, 0.8], \n",
    "              'learning_rate': [0.1, 0.2, 0.01, 0.001],\n",
    "              'max_depth': [3, 5, 7, 9, 12],\n",
    "              'n_estimators': [100, 150, 200, 300, 500],\n",
    "              'subsample': [0.4, 0.5, 0.7, 0.8],}\n",
    "\n",
    "search = GridSearchCV(estimator = xgb.XGBClassifier(),\n",
    "                      param_grid = parameters,\n",
    "                      cv = 5,\n",
    "                      n_jobs = -1)\n",
    "\n",
    "search.fit(X = X, y = y) # The main dataset (X, y), not training dataset since GridSearchCV creates training and testing dataset\n",
    "                         # from its own.\n",
    "print(f\"Best Accuracy Score = {search.best_score_}.\")\n",
    "print(f\"\\nBest Hyperparameters values : \\n{search.best_params_}.\")"
   ]
  },
  {
   "cell_type": "code",
   "execution_count": 17,
   "id": "415eed79",
   "metadata": {},
   "outputs": [
    {
     "name": "stdout",
     "output_type": "stream",
     "text": [
      "Prediction = [20]\n",
      "['rice']\n"
     ]
    },
    {
     "data": {
      "text/plain": [
       "['D:\\\\VS CODE\\\\ML Projects\\\\crop_app\\\\app\\\\trained_models\\\\labelEncoder_model.pkl']"
      ]
     },
     "execution_count": 17,
     "metadata": {},
     "output_type": "execute_result"
    }
   ],
   "source": [
    "clf = xgb.XGBClassifier(colsample_bytree = 0.5, # The fraction of features used for each tree.\n",
    "                        learning_rate = 0.1,\n",
    "                        max_depth = 5,\n",
    "                        n_estimators = 100,\n",
    "                        subsample = 0.7, # The fraction of samples used for each tree.\n",
    "                        random_state = 62) .fit(X_train, y_train)\n",
    "\n",
    "pred = clf.predict(np.array([[85, 40, 50, 23, 80, 6, 200]])) # Output : [20].\n",
    "print(\"Prediction =\", pred) \n",
    "\n",
    "print(le.inverse_transform(pred)) # Output : ['rice'] because 20 is rice.\n",
    "\n",
    "joblib.dump(value = clf, filename = r\"D:\\VS CODE\\ML Projects\\crop_app\\app\\trained_models\\xgb_model.pkl\")\n",
    "joblib.dump(value = le, filename = r\"D:\\VS CODE\\ML Projects\\crop_app\\app\\trained_models\\labelEncoder_model.pkl\")"
   ]
  },
  {
   "cell_type": "code",
   "execution_count": 10,
   "id": "98eefff8",
   "metadata": {},
   "outputs": [],
   "source": [
    "crop.group_by(crop_name = 'label').agg(pl.all().first()).drop('label').write_csv(\"unique_crops_sample.csv\")"
   ]
  }
 ],
 "metadata": {
  "kernelspec": {
   "display_name": "Python 3",
   "language": "python",
   "name": "python3"
  },
  "language_info": {
   "codemirror_mode": {
    "name": "ipython",
    "version": 3
   },
   "file_extension": ".py",
   "mimetype": "text/x-python",
   "name": "python",
   "nbconvert_exporter": "python",
   "pygments_lexer": "ipython3",
   "version": "3.12.4"
  }
 },
 "nbformat": 4,
 "nbformat_minor": 5
}
